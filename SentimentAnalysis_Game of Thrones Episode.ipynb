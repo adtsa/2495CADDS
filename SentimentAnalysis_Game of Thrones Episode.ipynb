{
 "cells": [
  {
   "cell_type": "code",
   "execution_count": 2,
   "metadata": {},
   "outputs": [],
   "source": [
    "import pandas as pd\n",
    "import numpy as np\n",
    "from nltk.tokenize import ToktokTokenizer #this allows us to turn a sentence into a list of words. If you do not have\n",
    "                                          #the package nltk type in the anaconda prompt: conda install -c anaconda nltk \n",
    "\n",
    "tokenizer = ToktokTokenizer()\n",
    "\n",
    "import matplotlib.pyplot as plt  #This is a python library for plotting\n",
    "import seaborn as sns\n",
    "\n",
    "#This allows you to see your plots in jupyter notebook\n",
    "%matplotlib inline "
   ]
  },
  {
   "cell_type": "markdown",
   "metadata": {},
   "source": [
    "# Lexicon-based sentiment analysis\n",
    "This sentiment analysis will be based on this lexicon: https://github.com/sebastianruder/emotion_proposition_store/tree/master/NRC-Emotion-Lexicon-v0.92\n",
    "credits to Cláudio Vieira for part of the tutorial."
   ]
  },
  {
   "cell_type": "code",
   "execution_count": 3,
   "metadata": {},
   "outputs": [],
   "source": [
    "# Let's import the lexicon from the txt file\n",
    "emolex = pd.read_csv(\"./NRC-Emotion-Lexicon-Wordlevel-v0.92.txt\", sep=\"\\t\", header=None, names = ['word', 'emotion', 'value'])\n",
    "emolex = emolex.groupby(['word', 'emotion']).sum()"
   ]
  },
  {
   "cell_type": "code",
   "execution_count": 4,
   "metadata": {},
   "outputs": [
    {
     "data": {
      "text/html": [
       "<div>\n",
       "<style scoped>\n",
       "    .dataframe tbody tr th:only-of-type {\n",
       "        vertical-align: middle;\n",
       "    }\n",
       "\n",
       "    .dataframe tbody tr th {\n",
       "        vertical-align: top;\n",
       "    }\n",
       "\n",
       "    .dataframe thead th {\n",
       "        text-align: right;\n",
       "    }\n",
       "</style>\n",
       "<table border=\"1\" class=\"dataframe\">\n",
       "  <thead>\n",
       "    <tr style=\"text-align: right;\">\n",
       "      <th></th>\n",
       "      <th></th>\n",
       "      <th>value</th>\n",
       "    </tr>\n",
       "    <tr>\n",
       "      <th>word</th>\n",
       "      <th>emotion</th>\n",
       "      <th></th>\n",
       "    </tr>\n",
       "  </thead>\n",
       "  <tbody>\n",
       "    <tr>\n",
       "      <th rowspan=\"10\" valign=\"top\">aback</th>\n",
       "      <th>anger</th>\n",
       "      <td>0</td>\n",
       "    </tr>\n",
       "    <tr>\n",
       "      <th>anticipation</th>\n",
       "      <td>0</td>\n",
       "    </tr>\n",
       "    <tr>\n",
       "      <th>disgust</th>\n",
       "      <td>0</td>\n",
       "    </tr>\n",
       "    <tr>\n",
       "      <th>fear</th>\n",
       "      <td>0</td>\n",
       "    </tr>\n",
       "    <tr>\n",
       "      <th>joy</th>\n",
       "      <td>0</td>\n",
       "    </tr>\n",
       "    <tr>\n",
       "      <th>negative</th>\n",
       "      <td>0</td>\n",
       "    </tr>\n",
       "    <tr>\n",
       "      <th>positive</th>\n",
       "      <td>0</td>\n",
       "    </tr>\n",
       "    <tr>\n",
       "      <th>sadness</th>\n",
       "      <td>0</td>\n",
       "    </tr>\n",
       "    <tr>\n",
       "      <th>surprise</th>\n",
       "      <td>0</td>\n",
       "    </tr>\n",
       "    <tr>\n",
       "      <th>trust</th>\n",
       "      <td>0</td>\n",
       "    </tr>\n",
       "    <tr>\n",
       "      <th rowspan=\"10\" valign=\"top\">abacus</th>\n",
       "      <th>anger</th>\n",
       "      <td>0</td>\n",
       "    </tr>\n",
       "    <tr>\n",
       "      <th>anticipation</th>\n",
       "      <td>0</td>\n",
       "    </tr>\n",
       "    <tr>\n",
       "      <th>disgust</th>\n",
       "      <td>0</td>\n",
       "    </tr>\n",
       "    <tr>\n",
       "      <th>fear</th>\n",
       "      <td>0</td>\n",
       "    </tr>\n",
       "    <tr>\n",
       "      <th>joy</th>\n",
       "      <td>0</td>\n",
       "    </tr>\n",
       "    <tr>\n",
       "      <th>negative</th>\n",
       "      <td>0</td>\n",
       "    </tr>\n",
       "    <tr>\n",
       "      <th>positive</th>\n",
       "      <td>0</td>\n",
       "    </tr>\n",
       "    <tr>\n",
       "      <th>sadness</th>\n",
       "      <td>0</td>\n",
       "    </tr>\n",
       "    <tr>\n",
       "      <th>surprise</th>\n",
       "      <td>0</td>\n",
       "    </tr>\n",
       "    <tr>\n",
       "      <th>trust</th>\n",
       "      <td>1</td>\n",
       "    </tr>\n",
       "  </tbody>\n",
       "</table>\n",
       "</div>"
      ],
      "text/plain": [
       "                     value\n",
       "word   emotion            \n",
       "aback  anger             0\n",
       "       anticipation      0\n",
       "       disgust           0\n",
       "       fear              0\n",
       "       joy               0\n",
       "       negative          0\n",
       "       positive          0\n",
       "       sadness           0\n",
       "       surprise          0\n",
       "       trust             0\n",
       "abacus anger             0\n",
       "       anticipation      0\n",
       "       disgust           0\n",
       "       fear              0\n",
       "       joy               0\n",
       "       negative          0\n",
       "       positive          0\n",
       "       sadness           0\n",
       "       surprise          0\n",
       "       trust             1"
      ]
     },
     "execution_count": 4,
     "metadata": {},
     "output_type": "execute_result"
    }
   ],
   "source": [
    "emolex.head(20) #As you can see, each word is given a score in several emotions. The score of the text will simply be \n",
    "                #a sum of the scores of each word in each emotion"
   ]
  },
  {
   "cell_type": "code",
   "execution_count": 5,
   "metadata": {},
   "outputs": [],
   "source": [
    "# Convert lexicon to a dataframe, where each column will be an emotion and each line a word. This may take a while\n",
    "words = list(emolex.index.get_level_values(0).drop_duplicates())\n",
    "matlex = pd.DataFrame(index=words, columns = ['anger', 'anticipation', 'disgust', 'fear', 'joy', \n",
    "                                              'negative', 'positive', 'sadness', 'surprise', 'trust'])\n",
    "\n",
    "for word in words:\n",
    "    matlex.loc[word] = emolex.xs(word).T.values"
   ]
  },
  {
   "cell_type": "code",
   "execution_count": 7,
   "metadata": {},
   "outputs": [],
   "source": [
    "def tokenize(string):\n",
    "    return tokenizer.tokenize(string.lower())\n",
    "\n",
    "def wordLookup(token): \n",
    "    try:\n",
    "        return matlex.loc[token].values\n",
    "    except:\n",
    "        return np.zeros(10)\n",
    "    \n",
    "def extractEmotions(string):\n",
    "    values = np.zeros(10)\n",
    "    for i in tokenize(string):\n",
    "        values = values + wordLookup(i)\n",
    "    return values"
   ]
  },
  {
   "cell_type": "markdown",
   "metadata": {},
   "source": [
    "# Getting sentiment for tweets about game of thrones "
   ]
  },
  {
   "cell_type": "code",
   "execution_count": 18,
   "metadata": {},
   "outputs": [],
   "source": [
    "tweets1 = pd.read_csv('game1.csv', header=None)\n",
    "tweets1.columns=['date','tweet']\n",
    "\n",
    "tweets2 = pd.read_csv('game2.csv', header=None)\n",
    "tweets2.columns=['date','tweet']\n",
    "\n",
    "tweets3 = pd.read_csv('game3.csv', header=None)\n",
    "tweets3.columns=['date','tweet']"
   ]
  },
  {
   "cell_type": "code",
   "execution_count": 19,
   "metadata": {},
   "outputs": [],
   "source": [
    "emotionResults1 = []\n",
    "\n",
    "for sentence in tweets1.tweet:\n",
    "    emotionResults1.append(extractEmotions(sentence))\n",
    "\n",
    "emo_df1 = pd.DataFrame(emotionResults1, columns=matlex.columns)\n",
    "\n",
    "emotionResults2 = []\n",
    "\n",
    "for sentence in tweets2.tweet:\n",
    "    emotionResults2.append(extractEmotions(sentence))\n",
    "\n",
    "emo_df2 = pd.DataFrame(emotionResults2, columns=matlex.columns)\n",
    "\n",
    "emotionResults3 = []\n",
    "\n",
    "for sentence in tweets3.tweet:\n",
    "    emotionResults3.append(extractEmotions(sentence))\n",
    "\n",
    "emo_df3 = pd.DataFrame(emotionResults3, columns=matlex.columns)"
   ]
  },
  {
   "cell_type": "markdown",
   "metadata": {},
   "source": [
    "We can check what is the most common emotion in the list"
   ]
  },
  {
   "cell_type": "code",
   "execution_count": 20,
   "metadata": {},
   "outputs": [
    {
     "name": "stderr",
     "output_type": "stream",
     "text": [
      "C:\\Program Files\\Anaconda3\\lib\\site-packages\\pandas\\core\\frame.py:3694: SettingWithCopyWarning: \n",
      "A value is trying to be set on a copy of a slice from a DataFrame\n",
      "\n",
      "See the caveats in the documentation: http://pandas.pydata.org/pandas-docs/stable/indexing.html#indexing-view-versus-copy\n",
      "  errors=errors)\n"
     ]
    }
   ],
   "source": [
    "positive1 = emo_df1.loc[emo_df1['positive']>emo_df1['negative']]\n",
    "positive1.drop(columns=['positive'], inplace=True)\n",
    "negative1 = emo_df1.loc[emo_df1['positive']<emo_df1['negative']]\n",
    "negative1.drop(columns=['negative'], inplace=True)\n",
    "\n",
    "sa_positive1 = pd.DataFrame(positive1.sum().sort_values())\n",
    "sa_negative1 = pd.DataFrame(negative1.sum().sort_values())\n",
    "\n",
    "positive2 = emo_df2.loc[emo_df2['positive']>emo_df2['negative']]\n",
    "positive2.drop(columns=['positive'], inplace=True)\n",
    "negative2 = emo_df.loc[emo_df2['positive']<emo_df2['negative']]\n",
    "negative2.drop(columns=['negative'], inplace=True)\n",
    "\n",
    "sa_positive2 = pd.DataFrame(positive2.sum().sort_values())\n",
    "sa_negative2 = pd.DataFrame(negative2.sum().sort_values())\n",
    "\n",
    "positive3 = emo_df3.loc[emo_df3['positive']>emo_df3['negative']]\n",
    "positive3.drop(columns=['positive'], inplace=True)\n",
    "negative3 = emo_df.loc[emo_df3['positive']<emo_df3['negative']]\n",
    "negative3.drop(columns=['negative'], inplace=True)\n",
    "\n",
    "sa_positive3 = pd.DataFrame(positive3.sum().sort_values())\n",
    "sa_negative3 = pd.DataFrame(negative3.sum().sort_values())"
   ]
  },
  {
   "cell_type": "code",
   "execution_count": 21,
   "metadata": {},
   "outputs": [],
   "source": [
    "sa1 = pd.DataFrame(emo_df1.sum().sort_values())\n",
    "sa1['Percentage'] = np.nan\n",
    "sa_positive1['Percentage'] = np.nan\n",
    "sa_negative1['Percentage'] = np.nan\n",
    "\n",
    "for i in range(len(sa1)):\n",
    "    sa1['Percentage'][i] = round((sa1[0][i]/sa1[0].sum())*100,2)\n",
    "    \n",
    "for i in range(len(sa_positive1)):\n",
    "    sa_positive1['Percentage'][i] = round((sa_positive1[0][i]/sa_positive1[0].sum())*100,2)\n",
    "    \n",
    "for i in range(len(sa_negative1)):\n",
    "    sa_negative1['Percentage'][i] = round((sa_negative1[0][i]/sa_negative1[0].sum())*100,2)"
   ]
  },
  {
   "cell_type": "code",
   "execution_count": 22,
   "metadata": {},
   "outputs": [],
   "source": [
    "sa2 = pd.DataFrame(emo_df2.sum().sort_values())\n",
    "sa2['Percentage'] = np.nan\n",
    "sa_positive2['Percentage'] = np.nan\n",
    "sa_negative2['Percentage'] = np.nan\n",
    "\n",
    "for i in range(len(sa2)):\n",
    "    sa2['Percentage'][i] = round((sa2[0][i]/sa2[0].sum())*100,2)\n",
    "    \n",
    "for i in range(len(sa_positive2)):\n",
    "    sa_positive2['Percentage'][i] = round((sa_positive2[0][i]/sa_positive2[0].sum())*100,2)\n",
    "    \n",
    "for i in range(len(sa_negative2)):\n",
    "    sa_negative2['Percentage'][i] = round((sa_negative2[0][i]/sa_negative2[0].sum())*100,2)"
   ]
  },
  {
   "cell_type": "code",
   "execution_count": 23,
   "metadata": {},
   "outputs": [],
   "source": [
    "sa3 = pd.DataFrame(emo_df3.sum().sort_values())\n",
    "sa3['Percentage'] = np.nan\n",
    "sa_positive3['Percentage'] = np.nan\n",
    "sa_negative3['Percentage'] = np.nan\n",
    "\n",
    "for i in range(len(sa3)):\n",
    "    sa3['Percentage'][i] = round((sa3[0][i]/sa3[0].sum())*100,2)\n",
    "    \n",
    "for i in range(len(sa_positive3)):\n",
    "    sa_positive3['Percentage'][i] = round((sa_positive3[0][i]/sa_positive3[0].sum())*100,2)\n",
    "    \n",
    "for i in range(len(sa_negative3)):\n",
    "    sa_negative3['Percentage'][i] = round((sa_negative3[0][i]/sa_negative3[0].sum())*100,2)"
   ]
  },
  {
   "cell_type": "code",
   "execution_count": 24,
   "metadata": {
    "scrolled": true
   },
   "outputs": [],
   "source": [
    "sa_percentage1 = pd.DataFrame(sa1['Percentage'])\n",
    "sa_percentage_po1 = pd.DataFrame(sa_positive1['Percentage'])\n",
    "sa_percentage_neg1 = pd.DataFrame(sa_negative1['Percentage'])\n",
    "\n",
    "sa_percentage2 = pd.DataFrame(sa2['Percentage'])\n",
    "sa_percentage_po2 = pd.DataFrame(sa_positive2['Percentage'])\n",
    "sa_percentage_neg2 = pd.DataFrame(sa_negative2['Percentage'])\n",
    "\n",
    "sa_percentage3 = pd.DataFrame(sa3['Percentage'])\n",
    "sa_percentage_po3 = pd.DataFrame(sa_positive3['Percentage'])\n",
    "sa_percentage_neg3 = pd.DataFrame(sa_negative3['Percentage'])"
   ]
  },
  {
   "cell_type": "code",
   "execution_count": 25,
   "metadata": {},
   "outputs": [],
   "source": [
    "index1 = list(sa_percentage1.index)\n",
    "y1 = list(sa_percentage1['Percentage'])\n",
    "\n",
    "index_po1 = list(sa_percentage_po1.index)\n",
    "y_po1 = list(sa_percentage_po1['Percentage'])\n",
    "\n",
    "index_neg1 = list(sa_percentage_neg1.index)\n",
    "y_neg1 = list(sa_percentage_neg1['Percentage'])\n",
    "\n",
    "index2 = list(sa_percentage2.index)\n",
    "y2 = list(sa_percentage2['Percentage'])\n",
    "\n",
    "index_po2 = list(sa_percentage_po2.index)\n",
    "y_po2 = list(sa_percentage_po2['Percentage'])\n",
    "\n",
    "index_neg2 = list(sa_percentage_neg2.index)\n",
    "y_neg2 = list(sa_percentage_neg2['Percentage'])\n",
    "\n",
    "index3 = list(sa_percentage3.index)\n",
    "y3 = list(sa_percentage3['Percentage'])\n",
    "\n",
    "index_po3 = list(sa_percentage_po3.index)\n",
    "y_po3 = list(sa_percentage_po3['Percentage'])\n",
    "\n",
    "index_neg3 = list(sa_percentage_neg3.index)\n",
    "y_neg3 = list(sa_percentage_neg3['Percentage'])"
   ]
  },
  {
   "cell_type": "code",
   "execution_count": 98,
   "metadata": {
    "scrolled": true
   },
   "outputs": [],
   "source": [
    "normal = pd.DataFrame(sa_percentage1)\n",
    "normal1 = normal.join(sa_percentage2, lsuffix=' Before episode (28th April)', rsuffix=' After episode (29th April)')\n",
    "normal2 = normal1.join(sa_percentage3)\n",
    "normal2 = normal2.rename(columns={'Percentage': 'Percentage After episode (30th April)'})"
   ]
  },
  {
   "cell_type": "code",
   "execution_count": 100,
   "metadata": {
    "scrolled": false
   },
   "outputs": [],
   "source": [
    "normal2 = normal2.T"
   ]
  },
  {
   "cell_type": "code",
   "execution_count": 101,
   "metadata": {},
   "outputs": [
    {
     "data": {
      "text/html": [
       "<style  type=\"text/css\" >\n",
       "    #T_143f273a_6b4d_11e9_9a2d_0050568e469erow0_col1 {\n",
       "            background-color:  lightgreen;\n",
       "        }    #T_143f273a_6b4d_11e9_9a2d_0050568e469erow0_col4 {\n",
       "            background-color:  lightgreen;\n",
       "        }    #T_143f273a_6b4d_11e9_9a2d_0050568e469erow0_col9 {\n",
       "            background-color:  lightgreen;\n",
       "        }    #T_143f273a_6b4d_11e9_9a2d_0050568e469erow1_col0 {\n",
       "            background-color:  lightgreen;\n",
       "        }    #T_143f273a_6b4d_11e9_9a2d_0050568e469erow1_col2 {\n",
       "            background-color:  lightgreen;\n",
       "        }    #T_143f273a_6b4d_11e9_9a2d_0050568e469erow1_col3 {\n",
       "            background-color:  lightgreen;\n",
       "        }    #T_143f273a_6b4d_11e9_9a2d_0050568e469erow1_col7 {\n",
       "            background-color:  lightgreen;\n",
       "        }    #T_143f273a_6b4d_11e9_9a2d_0050568e469erow2_col5 {\n",
       "            background-color:  lightgreen;\n",
       "        }    #T_143f273a_6b4d_11e9_9a2d_0050568e469erow2_col6 {\n",
       "            background-color:  lightgreen;\n",
       "        }    #T_143f273a_6b4d_11e9_9a2d_0050568e469erow2_col8 {\n",
       "            background-color:  lightgreen;\n",
       "        }</style>  \n",
       "<table id=\"T_143f273a_6b4d_11e9_9a2d_0050568e469e\" > \n",
       "<thead>    <tr> \n",
       "        <th class=\"blank level0\" ></th> \n",
       "        <th class=\"col_heading level0 col0\" >disgust</th> \n",
       "        <th class=\"col_heading level0 col1\" >surprise</th> \n",
       "        <th class=\"col_heading level0 col2\" >anger</th> \n",
       "        <th class=\"col_heading level0 col3\" >sadness</th> \n",
       "        <th class=\"col_heading level0 col4\" >joy</th> \n",
       "        <th class=\"col_heading level0 col5\" >fear</th> \n",
       "        <th class=\"col_heading level0 col6\" >trust</th> \n",
       "        <th class=\"col_heading level0 col7\" >negative</th> \n",
       "        <th class=\"col_heading level0 col8\" >positive</th> \n",
       "        <th class=\"col_heading level0 col9\" >anticipation</th> \n",
       "    </tr></thead> \n",
       "<tbody>    <tr> \n",
       "        <th id=\"T_143f273a_6b4d_11e9_9a2d_0050568e469elevel0_row0\" class=\"row_heading level0 row0\" >Percentage Before episode (28th April)</th> \n",
       "        <td id=\"T_143f273a_6b4d_11e9_9a2d_0050568e469erow0_col0\" class=\"data row0 col0\" >3.45</td> \n",
       "        <td id=\"T_143f273a_6b4d_11e9_9a2d_0050568e469erow0_col1\" class=\"data row0 col1\" >4.97</td> \n",
       "        <td id=\"T_143f273a_6b4d_11e9_9a2d_0050568e469erow0_col2\" class=\"data row0 col2\" >6.14</td> \n",
       "        <td id=\"T_143f273a_6b4d_11e9_9a2d_0050568e469erow0_col3\" class=\"data row0 col3\" >6.21</td> \n",
       "        <td id=\"T_143f273a_6b4d_11e9_9a2d_0050568e469erow0_col4\" class=\"data row0 col4\" >8</td> \n",
       "        <td id=\"T_143f273a_6b4d_11e9_9a2d_0050568e469erow0_col5\" class=\"data row0 col5\" >9.03</td> \n",
       "        <td id=\"T_143f273a_6b4d_11e9_9a2d_0050568e469erow0_col6\" class=\"data row0 col6\" >12.12</td> \n",
       "        <td id=\"T_143f273a_6b4d_11e9_9a2d_0050568e469erow0_col7\" class=\"data row0 col7\" >13.88</td> \n",
       "        <td id=\"T_143f273a_6b4d_11e9_9a2d_0050568e469erow0_col8\" class=\"data row0 col8\" >18.06</td> \n",
       "        <td id=\"T_143f273a_6b4d_11e9_9a2d_0050568e469erow0_col9\" class=\"data row0 col9\" >18.12</td> \n",
       "    </tr>    <tr> \n",
       "        <th id=\"T_143f273a_6b4d_11e9_9a2d_0050568e469elevel0_row1\" class=\"row_heading level0 row1\" >Percentage After episode (29th April)</th> \n",
       "        <td id=\"T_143f273a_6b4d_11e9_9a2d_0050568e469erow1_col0\" class=\"data row1 col0\" >5.65</td> \n",
       "        <td id=\"T_143f273a_6b4d_11e9_9a2d_0050568e469erow1_col1\" class=\"data row1 col1\" >4.12</td> \n",
       "        <td id=\"T_143f273a_6b4d_11e9_9a2d_0050568e469erow1_col2\" class=\"data row1 col2\" >7.89</td> \n",
       "        <td id=\"T_143f273a_6b4d_11e9_9a2d_0050568e469erow1_col3\" class=\"data row1 col3\" >6.86</td> \n",
       "        <td id=\"T_143f273a_6b4d_11e9_9a2d_0050568e469erow1_col4\" class=\"data row1 col4\" >5.93</td> \n",
       "        <td id=\"T_143f273a_6b4d_11e9_9a2d_0050568e469erow1_col5\" class=\"data row1 col5\" >10.42</td> \n",
       "        <td id=\"T_143f273a_6b4d_11e9_9a2d_0050568e469erow1_col6\" class=\"data row1 col6\" >12.05</td> \n",
       "        <td id=\"T_143f273a_6b4d_11e9_9a2d_0050568e469erow1_col7\" class=\"data row1 col7\" >15.82</td> \n",
       "        <td id=\"T_143f273a_6b4d_11e9_9a2d_0050568e469erow1_col8\" class=\"data row1 col8\" >17.86</td> \n",
       "        <td id=\"T_143f273a_6b4d_11e9_9a2d_0050568e469erow1_col9\" class=\"data row1 col9\" >13.38</td> \n",
       "    </tr>    <tr> \n",
       "        <th id=\"T_143f273a_6b4d_11e9_9a2d_0050568e469elevel0_row2\" class=\"row_heading level0 row2\" >Percentage After episode (30th April)</th> \n",
       "        <td id=\"T_143f273a_6b4d_11e9_9a2d_0050568e469erow2_col0\" class=\"data row2 col0\" >3.13</td> \n",
       "        <td id=\"T_143f273a_6b4d_11e9_9a2d_0050568e469erow2_col1\" class=\"data row2 col1\" >3.86</td> \n",
       "        <td id=\"T_143f273a_6b4d_11e9_9a2d_0050568e469erow2_col2\" class=\"data row2 col2\" >5.16</td> \n",
       "        <td id=\"T_143f273a_6b4d_11e9_9a2d_0050568e469erow2_col3\" class=\"data row2 col3\" >4.37</td> \n",
       "        <td id=\"T_143f273a_6b4d_11e9_9a2d_0050568e469erow2_col4\" class=\"data row2 col4\" >6.63</td> \n",
       "        <td id=\"T_143f273a_6b4d_11e9_9a2d_0050568e469erow2_col5\" class=\"data row2 col5\" >13.66</td> \n",
       "        <td id=\"T_143f273a_6b4d_11e9_9a2d_0050568e469erow2_col6\" class=\"data row2 col6\" >16.99</td> \n",
       "        <td id=\"T_143f273a_6b4d_11e9_9a2d_0050568e469erow2_col7\" class=\"data row2 col7\" >11.49</td> \n",
       "        <td id=\"T_143f273a_6b4d_11e9_9a2d_0050568e469erow2_col8\" class=\"data row2 col8\" >20.6</td> \n",
       "        <td id=\"T_143f273a_6b4d_11e9_9a2d_0050568e469erow2_col9\" class=\"data row2 col9\" >14.12</td> \n",
       "    </tr></tbody> \n",
       "</table> "
      ],
      "text/plain": [
       "<pandas.io.formats.style.Styler at 0x271c4943be0>"
      ]
     },
     "execution_count": 101,
     "metadata": {},
     "output_type": "execute_result"
    }
   ],
   "source": [
    "normal2.style.highlight_max(color='lightgreen')"
   ]
  },
  {
   "cell_type": "code",
   "execution_count": 51,
   "metadata": {
    "scrolled": true
   },
   "outputs": [
    {
     "data": {
      "image/png": "[encoded data removed]",
      "text/plain": [
       "<Figure size 1584x360 with 3 Axes>"
      ]
     },
     "metadata": {
      "needs_background": "light"
     },
     "output_type": "display_data"
    }
   ],
   "source": [
    "fig, ax = plt.subplots(nrows = 1, ncols=3, figsize=(22,5))\n",
    "\n",
    "ax[0].barh(index1, y1, align='center',\n",
    "        color='green', ecolor='black')\n",
    "ax[0].set_xlabel('Percentage')\n",
    "ax[0].set_ylabel('Feeling')\n",
    "ax[0].set_title('Before Episode (28th April)')\n",
    "\n",
    "ax[1].barh(index2, y2, align='center',\n",
    "        color='green', ecolor='black')\n",
    "ax[1].set_xlabel('Percentage')\n",
    "ax[1].set_title('After Episode (29th April)')\n",
    "\n",
    "\n",
    "ax[2].barh(index3, y3, align='center',\n",
    "        color='green', ecolor='black')\n",
    "ax[2].set_xlabel('Percentage')\n",
    "ax[2].set_title('After Episode (30th April)')\n",
    "\n",
    "fig.suptitle('General Analysis', fontsize=14, fontweight='bold')\n",
    "fig.savefig('general.png', transparent=False, dpi=120, bbox_inches='tight')\n",
    "plt.show()"
   ]
  },
  {
   "cell_type": "code",
   "execution_count": 52,
   "metadata": {},
   "outputs": [
    {
     "data": {
      "image/png": "[encoded data removed]",
      "text/plain": [
       "<Figure size 1584x360 with 3 Axes>"
      ]
     },
     "metadata": {
      "needs_background": "light"
     },
     "output_type": "display_data"
    }
   ],
   "source": [
    "fig, ax = plt.subplots(nrows = 1, ncols=3, figsize=(22,5))\n",
    "\n",
    "ax[0].barh(index_po1, y_po1, align='center',\n",
    "        color='green', ecolor='black')\n",
    "ax[0].set_xlabel('Percentage')\n",
    "ax[0].set_ylabel('Feeling')\n",
    "ax[0].set_title('Before Episode (28th April)')\n",
    "\n",
    "ax[1].barh(index_po2, y_po2, align='center',\n",
    "        color='green', ecolor='black')\n",
    "ax[1].set_xlabel('Percentage')\n",
    "ax[1].set_title('After Episode (29th April)')\n",
    "\n",
    "\n",
    "ax[2].barh(index_po3, y_po3, align='center',\n",
    "        color='green', ecolor='black')\n",
    "ax[2].set_xlabel('Percentage')\n",
    "ax[2].set_title('After Episode (30th April)')\n",
    "\n",
    "fig.suptitle('Emotions of positive tweets', fontsize=14, fontweight='bold')\n",
    "fig.savefig('emotions_positive.png', transparent=False, dpi=120, bbox_inches='tight')\n",
    "plt.show()"
   ]
  },
  {
   "cell_type": "code",
   "execution_count": 53,
   "metadata": {},
   "outputs": [
    {
     "data": {
      "image/png": "[encoded data removed]",
      "text/plain": [
       "<Figure size 1584x360 with 3 Axes>"
      ]
     },
     "metadata": {
      "needs_background": "light"
     },
     "output_type": "display_data"
    }
   ],
   "source": [
    "fig, ax = plt.subplots(nrows = 1, ncols=3, figsize=(22,5))\n",
    "\n",
    "ax[0].barh(index_neg1, y_neg1, align='center',\n",
    "        color='green', ecolor='black')\n",
    "ax[0].set_xlabel('Percentage')\n",
    "ax[0].set_ylabel('Feeling')\n",
    "ax[0].set_title('Before Episode (28th April)')\n",
    "\n",
    "ax[1].barh(index_neg2, y_neg2, align='center',\n",
    "        color='green', ecolor='black')\n",
    "ax[1].set_xlabel('Percentage')\n",
    "ax[1].set_title('After Episode (29th April)')\n",
    "\n",
    "\n",
    "ax[2].barh(index_neg3, y_neg3, align='center',\n",
    "        color='green', ecolor='black')\n",
    "ax[2].set_xlabel('Percentage')\n",
    "ax[2].set_title('After Episode (30th April)')\n",
    "\n",
    "fig.suptitle('Emotions of negative tweets', fontsize=14, fontweight='bold')\n",
    "fig.savefig('emotions_negative.png', transparent=False, dpi=120, bbox_inches='tight')\n",
    "plt.show()"
   ]
  },
  {
   "cell_type": "code",
   "execution_count": null,
   "metadata": {},
   "outputs": [],
   "source": []
  }
 ],
 "metadata": {
  "kernelspec": {
   "display_name": "Python 3",
   "language": "python",
   "name": "python3"
  },
  "language_info": {
   "codemirror_mode": {
    "name": "ipython",
    "version": 3
   },
   "file_extension": ".py",
   "mimetype": "text/x-python",
   "name": "python",
   "nbconvert_exporter": "python",
   "pygments_lexer": "ipython3",
   "version": "3.6.5"
  }
 },
 "nbformat": 4,
 "nbformat_minor": 2
}
